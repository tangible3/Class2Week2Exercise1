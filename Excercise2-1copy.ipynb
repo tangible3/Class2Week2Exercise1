{
 "cells": [
  {
   "cell_type": "code",
   "execution_count": 1,
   "id": "f6632b14-4f84-483c-aba5-1739d52a34e2",
   "metadata": {},
   "outputs": [
    {
     "data": {
      "text/plain": [
       "2"
      ]
     },
     "execution_count": 1,
     "metadata": {},
     "output_type": "execute_result"
    }
   ],
   "source": [
    "1+1"
   ]
  },
  {
   "cell_type": "markdown",
   "id": "9212f804-729f-4590-a21d-8771e9f008c2",
   "metadata": {},
   "source": [
    "Text here - to check it out!"
   ]
  },
  {
   "cell_type": "markdown",
   "id": "b12bdee9-d97d-40ac-ae12-b080776e7876",
   "metadata": {},
   "source": [
    "here is more text!"
   ]
  },
  {
   "cell_type": "code",
   "execution_count": null,
   "id": "24b3dcc0-d359-46a9-a460-efd827d5e46d",
   "metadata": {},
   "outputs": [],
   "source": []
  }
 ],
 "metadata": {
  "kernelspec": {
   "display_name": "Python",
   "language": "python",
   "name": "conda-env-python-py"
  },
  "language_info": {
   "codemirror_mode": {
    "name": "ipython",
    "version": 3
   },
   "file_extension": ".py",
   "mimetype": "text/x-python",
   "name": "python",
   "nbconvert_exporter": "python",
   "pygments_lexer": "ipython3",
   "version": "3.7.12"
  }
 },
 "nbformat": 4,
 "nbformat_minor": 5
}
